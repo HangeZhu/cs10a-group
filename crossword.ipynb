{
 "cells": [
  {
   "cell_type": "code",
   "execution_count": 1,
   "metadata": {},
   "outputs": [],
   "source": [
    "p1_ans = ['lava', 'vulcan', 'mantle', 'eruption', 'tectonic', 'mars', 'core', 'geyser', 'conduit','dormant', 'ringoffire', 'flank','magma', 'ash', 'vent']\n",
    "p2_ans = ['cupcake', 'prize', 'punch', 'partyhat', 'icecream', 'candy', 'candle', 'fireworks', 'balloon', 'magic', 'games', 'music', 'clown','chocolate', 'cake', 'popcorn']\n",
    "p3_ans = ['france', 'celebration', 'maracas', 'mayfifth', 'chiles', 'red', 'cactus', 'sombrero', 'tacos', 'flowers', 'mariachi', 'salsa', 'battle', 'enchiladas', 'guitar', 'green', 'mexico', 'pinata', 'guacamole']\n",
    "p4_ans = ['unicycle', 'icecream', 'horse', 'popcorn', 'cannon', 'bear', 'hotdog', 'balloons', 'lion', 'strongman','bicycle', 'ticket', 'tiger', 'clown', 'elephant', 'juggler', 'seal', 'cottoncandy', 'bigtop']\n",
    "p5_ans = ['mouthwash', 'floss', 'sugar', 'xray', 'toothfairy', 'openwide', 'toothbrush', 'bacteria','cavity', 'checkup','root','hygienist','gargle','dentist','braces','plaque', 'dentures','teeth','gums']\n",
    "p6_ans = ['soda','drivethrough','milkshake','pizza','taco','onion','straw','pretzel','donuts','nuggets','sandwich','hamburger','bacon','napkin','pickle','ketchup','icecream','frenchfries','egg','forhere','cheeseburger','togo','hotdog','mustard','burrito','tomato']\n",
    "p7_ans = ['pineapple','watermelon','kiwi','grapefruit','strawberry','pear','apricot','raspberry','blackberry','bananas','coconut','orange','lemon','apple','avocado','grapes','cheeries']\n",
    "p8_ans = ['trumpet','maracas','violin','xylophone','guitar','accordion','tambourine','trombone','harp','piano','drum','harmonica']\n",
    "p9_ans = ['judo','tennis','hiking','volleyball','wrestling','karate','lacrosse','skiing','basketball','boxing','swimming','icehockey','gymnastics','bowling','badminton','soccer','cycling','skating','cricket','tabletennis','rugby','golf','football']\n",
    "p10_ans = ['broccoli','cucumber','onion','cabbage','corn','mushroom','brusselsprout','pumpkin','potato','bellpepper','eggplant','beet','artichoke','radish','garlic','carrot']"
   ]
  },
  {
   "cell_type": "code",
   "execution_count": 10,
   "metadata": {},
   "outputs": [],
   "source": [
    "from PIL import Image\n",
    "p1 = Image.open(\"p1.jpg\")\n",
    "p2 = Image.open(\"p2.jpg\")\n",
    "p3 = Image.open(\"p3.jpg\")\n",
    "p4 = Image.open(\"p4.jpg\")\n",
    "p5 = Image.open(\"p5.jpg\")\n",
    "p6 = Image.open(\"p6.jpg\")\n",
    "p7 = Image.open(\"p7.jpg\")\n",
    "p8 = Image.open(\"p8.jpg\")\n",
    "p9 = Image.open(\"p9.jpg\")\n",
    "p10 = Image.open(\"p10.jpg\")\n",
    "picture_list = [p1, p2, p3, p4, p5, p6, p7, p8, p9, p10]\n",
    "answer_list = [p1_ans, p2_ans, p3_ans, p4_ans, p5_ans, p6_ans, p7_ans, p8_ans, p9_ans, p10_ans]"
   ]
  },
  {
   "cell_type": "code",
   "execution_count": null,
   "metadata": {},
   "outputs": [],
   "source": [
    "import random\n",
    "def playcrossword():\n",
    "    correct = 0\n",
    "    #randomly generate a picture from picture list\n",
    "    picture = random.choice(picture_list)\n",
    "    \n",
    "    #get the position of the picture in the picture list\n",
    "    sequence = picture_list.index(picture)\n",
    "    #get the answer for the randomly generated picture\n",
    "    answer = answer_list[sequence]\n",
    "    yesorno = input(\"Want to play a crossword game? [y/n]\")\n",
    "    while yesorno == \"y\":\n",
    "        showpic = picture.show()\n",
    "        for i in range(len(answer)):\n",
    "            user_answer = input(\"What is the answer for space \"+ str(i+1) + \"?\")\n",
    "            if user_answer == answer[i]:\n",
    "                correct += 1\n",
    "                print(\"Congrats! You got it right.\")\n",
    "                print(\"Your current score is \", str(correct), \"/\", str(i+1))\n",
    "            else:\n",
    "                print(\"Sorry, you got it wrong...\")\n",
    "                print(\"Your current score is \", str(correct), \"/\", str(i+1))\n",
    "\n",
    "        return(\"You finished all!\")\n",
    "    \n",
    "    return(\"Goodbye!\")\n",
    "    \n",
    "playcrossword()"
   ]
  },
  {
   "cell_type": "code",
   "execution_count": null,
   "metadata": {},
   "outputs": [],
   "source": []
  }
 ],
 "metadata": {
  "kernelspec": {
   "display_name": "Python 3",
   "language": "python",
   "name": "python3"
  },
  "language_info": {
   "codemirror_mode": {
    "name": "ipython",
    "version": 3
   },
   "file_extension": ".py",
   "mimetype": "text/x-python",
   "name": "python",
   "nbconvert_exporter": "python",
   "pygments_lexer": "ipython3",
   "version": "3.7.6"
  }
 },
 "nbformat": 4,
 "nbformat_minor": 4
}
